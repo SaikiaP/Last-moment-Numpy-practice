{
 "cells": [
  {
   "cell_type": "code",
   "execution_count": 1,
   "id": "6910c595",
   "metadata": {},
   "outputs": [],
   "source": [
    "import numpy as np"
   ]
  },
  {
   "cell_type": "markdown",
   "id": "cb245cff",
   "metadata": {},
   "source": [
    "## Creation functions"
   ]
  },
  {
   "cell_type": "code",
   "execution_count": 38,
   "id": "25280ebe",
   "metadata": {},
   "outputs": [
    {
     "name": "stdout",
     "output_type": "stream",
     "text": [
      "<class 'list'>\n",
      "<class 'numpy.ndarray'>\n"
     ]
    }
   ],
   "source": [
    "#1.array\n",
    "b=[1,2,3,4,5,6,7,8,9,0]\n",
    "c=np.array(b)\n",
    "print(type(b))\n",
    "print(type(c))"
   ]
  },
  {
   "cell_type": "code",
   "execution_count": 39,
   "id": "114232c1",
   "metadata": {},
   "outputs": [
    {
     "name": "stdout",
     "output_type": "stream",
     "text": [
      "[0. 0. 0. 0. 0.]\n",
      "\n",
      "\n",
      "[[0. 0. 0.]\n",
      " [0. 0. 0.]\n",
      " [0. 0. 0.]\n",
      " [0. 0. 0.]\n",
      " [0. 0. 0.]]\n"
     ]
    }
   ],
   "source": [
    "#2.zeros\n",
    "a=np.zeros(5)\n",
    "b=np.zeros((5,3))\n",
    "print(a)\n",
    "print('\\n')\n",
    "print(b)\n",
    "    \n"
   ]
  },
  {
   "cell_type": "code",
   "execution_count": 40,
   "id": "ced263f5",
   "metadata": {},
   "outputs": [
    {
     "name": "stdout",
     "output_type": "stream",
     "text": [
      "[1. 1. 1. 1. 1.]\n",
      "\n",
      "\n",
      "[[1. 1. 1.]\n",
      " [1. 1. 1.]\n",
      " [1. 1. 1.]\n",
      " [1. 1. 1.]\n",
      " [1. 1. 1.]]\n"
     ]
    }
   ],
   "source": [
    "#3.ones\n",
    "a=np.ones(5)\n",
    "b=np.ones((5,3))\n",
    "print(a)\n",
    "print('\\n')\n",
    "print(b)"
   ]
  },
  {
   "cell_type": "code",
   "execution_count": 41,
   "id": "b95ccd16",
   "metadata": {},
   "outputs": [
    {
     "data": {
      "text/plain": [
       "array([2.12199579e-314, 0.00000000e+000, 4.32801506e-321, 1.13952003e-311])"
      ]
     },
     "execution_count": 41,
     "metadata": {},
     "output_type": "execute_result"
    }
   ],
   "source": [
    "#4.empty\n",
    "\n",
    "a=np.empty(4)\n",
    "a"
   ]
  },
  {
   "cell_type": "code",
   "execution_count": 42,
   "id": "e37f275a",
   "metadata": {},
   "outputs": [
    {
     "name": "stdout",
     "output_type": "stream",
     "text": [
      "[0 1 2 3]\n",
      "[1 4 7]\n"
     ]
    }
   ],
   "source": [
    "#5.arange\n",
    "a=np.arange(4)\n",
    "b=np.arange(1,10,3)\n",
    "print(a)\n",
    "print(b)"
   ]
  },
  {
   "cell_type": "code",
   "execution_count": 43,
   "id": "11645631",
   "metadata": {},
   "outputs": [
    {
     "name": "stdout",
     "output_type": "stream",
     "text": [
      "[ 1.          1.18367347  1.36734694  1.55102041  1.73469388  1.91836735\n",
      "  2.10204082  2.28571429  2.46938776  2.65306122  2.83673469  3.02040816\n",
      "  3.20408163  3.3877551   3.57142857  3.75510204  3.93877551  4.12244898\n",
      "  4.30612245  4.48979592  4.67346939  4.85714286  5.04081633  5.2244898\n",
      "  5.40816327  5.59183673  5.7755102   5.95918367  6.14285714  6.32653061\n",
      "  6.51020408  6.69387755  6.87755102  7.06122449  7.24489796  7.42857143\n",
      "  7.6122449   7.79591837  7.97959184  8.16326531  8.34693878  8.53061224\n",
      "  8.71428571  8.89795918  9.08163265  9.26530612  9.44897959  9.63265306\n",
      "  9.81632653 10.        ]\n",
      "\n",
      "\n",
      "[ 1.    3.25  5.5   7.75 10.  ]\n"
     ]
    }
   ],
   "source": [
    "#6.linspace\n",
    "a=np.linspace(1,10,)\n",
    "b=np.linspace(1,10,5)\n",
    "print(a)\n",
    "print('\\n')\n",
    "print(b)"
   ]
  },
  {
   "cell_type": "code",
   "execution_count": 37,
   "id": "9c5cac47",
   "metadata": {},
   "outputs": [
    {
     "data": {
      "text/plain": [
       "array([[1., 0., 0., 0., 0.],\n",
       "       [0., 1., 0., 0., 0.],\n",
       "       [0., 0., 1., 0., 0.],\n",
       "       [0., 0., 0., 1., 0.],\n",
       "       [0., 0., 0., 0., 1.]])"
      ]
     },
     "execution_count": 37,
     "metadata": {},
     "output_type": "execute_result"
    }
   ],
   "source": [
    "#6. identity matrix\n",
    "a=np.eye(5)\n",
    "a"
   ]
  },
  {
   "cell_type": "markdown",
   "id": "2cc9b356",
   "metadata": {},
   "source": [
    "## Array indexing and slicing"
   ]
  },
  {
   "cell_type": "code",
   "execution_count": 46,
   "id": "8e4a30cf",
   "metadata": {},
   "outputs": [
    {
     "name": "stdout",
     "output_type": "stream",
     "text": [
      "2\n",
      "\n",
      "\n",
      "[2 3 4]\n",
      "\n",
      "\n",
      "[2 4 6]\n"
     ]
    }
   ],
   "source": [
    "b=[1,2,3,4,5,6,7,8,9,0]\n",
    "c=np.array(b)\n",
    "print(c[1])\n",
    "print('\\n')\n",
    "print(c[1:4])\n",
    "print('\\n')\n",
    "print(c[1:6:2])\n"
   ]
  },
  {
   "cell_type": "markdown",
   "id": "b6ce500e",
   "metadata": {},
   "source": [
    "## Random number functions"
   ]
  },
  {
   "cell_type": "code",
   "execution_count": 48,
   "id": "e8a3b408",
   "metadata": {},
   "outputs": [
    {
     "name": "stdout",
     "output_type": "stream",
     "text": [
      "[0.07982078 0.39898297 0.13191176 0.49099158 0.03774018]\n",
      "\n",
      "\n",
      "[ 1.00793282 -0.62828657  1.2348316  -0.55654895 -1.20646346]\n",
      "\n",
      "\n",
      "2\n",
      "\n",
      "\n",
      "[6 5 6 4]\n"
     ]
    }
   ],
   "source": [
    "l=np.array([1,2,3,4,4,5,6,6,7,8])\n",
    "a=np.random.rand(5)\n",
    "b=np.random.randn(5)\n",
    "c=np.random.randint(5)\n",
    "d=np.random.choice(l, size=4, replace=True, p=None)\n",
    "print(a)\n",
    "print('\\n')\n",
    "print(b)\n",
    "print('\\n')\n",
    "print(c)\n",
    "print('\\n')\n",
    "print(d)"
   ]
  },
  {
   "cell_type": "markdown",
   "id": "accb4567",
   "metadata": {},
   "source": [
    "np.choice =\n",
    "a: The array-like object from which to generate the random samples. It can be a 1-D array or a sequence.\n",
    "size: The number of random samples to draw. If size is None (default), a single random element is returned. If an integer value is provided, an array with that many random elements is returned.\n",
    "replace: A boolean flag that determines whether the samples are drawn with or without replacement. If True (default), elements can be drawn more than once. If False, each element can be drawn only once.\n",
    "p: An optional array of probabilities associated with each element in a. It allows you to define custom probabilities for each element. The probabilities must sum up to 1. If p is not provided, all elements have an equal probability of being selected."
   ]
  },
  {
   "cell_type": "markdown",
   "id": "b252f084",
   "metadata": {},
   "source": [
    "## Logical functions"
   ]
  },
  {
   "cell_type": "code",
   "execution_count": 49,
   "id": "8f71576f",
   "metadata": {},
   "outputs": [
    {
     "name": "stdout",
     "output_type": "stream",
     "text": [
      "[ True False False False]\n",
      "[ True  True  True False]\n",
      "[False  True False  True]\n"
     ]
    }
   ],
   "source": [
    "# Example for np.logical_and()\n",
    "arr1 = np.array([True, True, False, False])\n",
    "arr2 = np.array([True, False, True, False])\n",
    "\n",
    "result_and = np.logical_and(arr1, arr2)\n",
    "print(result_and)  # Output: [ True False False False]\n",
    "\n",
    "\n",
    "# Example for np.logical_or()\n",
    "arr3 = np.array([True, True, False, False])\n",
    "arr4 = np.array([True, False, True, False])\n",
    "\n",
    "result_or = np.logical_or(arr3, arr4)\n",
    "print(result_or)   # Output: [ True  True  True False]\n",
    "\n",
    "\n",
    "# Example for np.logical_not()\n",
    "arr5 = np.array([True, False, True, False])\n",
    "\n",
    "result_not = np.logical_not(arr5)\n",
    "print(result_not)  # Output: [False  True False  True]"
   ]
  },
  {
   "cell_type": "markdown",
   "id": "4148dfa2",
   "metadata": {},
   "source": [
    "## Miscellaneous Functions"
   ]
  },
  {
   "cell_type": "code",
   "execution_count": 50,
   "id": "0db4da88",
   "metadata": {},
   "outputs": [
    {
     "name": "stdout",
     "output_type": "stream",
     "text": [
      "[-1 -1 -1 40 50]\n",
      "[10 20 30 40 50]\n",
      "[False  True False False  True]\n"
     ]
    }
   ],
   "source": [
    "# Example for np.where()\n",
    "arr = np.array([10, 20, 30, 40, 50])\n",
    "condition = arr > 30\n",
    "\n",
    "result_where = np.where(condition, arr, -1)\n",
    "print(result_where)  # Output: [-1 -1 -1 40 50]\n",
    "\n",
    "# In this example, we use np.where() to create a new array where elements greater than 30 are replaced with their original value,\n",
    "# and elements less than or equal to 30 are replaced with -1.\n",
    "\n",
    "\n",
    "# Example for np.unique()\n",
    "arr_unique = np.array([10, 20, 10, 30, 20, 40, 50])\n",
    "unique_values = np.unique(arr_unique)\n",
    "print(unique_values)  # Output: [10 20 30 40 50]\n",
    "\n",
    "# In this example, we use np.unique() to find the unique elements in the array 'arr_unique' and return them in sorted order.\n",
    "\n",
    "\n",
    "# Example for np.isin()\n",
    "arr1 = np.array([10, 20, 30, 40, 50])\n",
    "arr2 = np.array([20, 50, 70])\n",
    "\n",
    "result_isin = np.isin(arr1, arr2)\n",
    "print(result_isin)  # Output: [False  True False False  True]\n",
    "\n",
    "# In this example, we use np.isin() to check which elements of 'arr1' are also present in 'arr2'. It returns a boolean array\n",
    "# indicating True for elements present in 'arr2' and False for elements not present in 'arr2'."
   ]
  },
  {
   "cell_type": "markdown",
   "id": "6e7e7b79",
   "metadata": {},
   "source": [
    "## Mathematical functions\n"
   ]
  },
  {
   "cell_type": "code",
   "execution_count": 51,
   "id": "7fa1ab60",
   "metadata": {},
   "outputs": [
    {
     "name": "stdout",
     "output_type": "stream",
     "text": [
      "[11 12 13 14 15]\n",
      "[-2 -1  0  1  2]\n",
      "[ 2  4  6  8 10]\n",
      "[0.5 1.  1.5 2.  2.5]\n",
      "[  1   8  27  64 125]\n",
      "[1.         1.41421356 1.73205081 2.         2.23606798]\n",
      "[  2.71828183   7.3890561   20.08553692  54.59815003 148.4131591 ]\n",
      "[0.         0.69314718 1.09861229 1.38629436 1.60943791]\n",
      "[ 0.84147098  0.90929743  0.14112001 -0.7568025  -0.95892427]\n",
      "[ 0.54030231 -0.41614684 -0.9899925  -0.65364362  0.28366219]\n",
      "[ 1.55740772 -2.18503986 -0.14254654  1.15782128 -3.38051501]\n"
     ]
    }
   ],
   "source": [
    "import numpy as np\n",
    "\n",
    "# Create a parent array\n",
    "arr = np.array([1, 2, 3, 4, 5])\n",
    "\n",
    "# Example for np.add()\n",
    "result_add = np.add(arr, 10)\n",
    "print(result_add)  # Output: [11 12 13 14 15]\n",
    "\n",
    "# Example for np.subtract()\n",
    "result_subtract = np.subtract(arr, 3)\n",
    "print(result_subtract)  # Output: [-2 -1  0  1  2]\n",
    "\n",
    "# Example for np.multiply()\n",
    "result_multiply = np.multiply(arr, 2)\n",
    "print(result_multiply)  # Output: [ 2  4  6  8 10]\n",
    "\n",
    "# Example for np.divide()\n",
    "result_divide = np.divide(arr, 2)\n",
    "print(result_divide)  # Output: [0.5 1.  1.5 2.  2.5]\n",
    "\n",
    "# Example for np.power()\n",
    "result_power = np.power(arr, 3)\n",
    "print(result_power)  # Output: [  1   8  27  64 125]\n",
    "\n",
    "# Example for np.sqrt()\n",
    "result_sqrt = np.sqrt(arr)\n",
    "print(result_sqrt)  # Output: [1.         1.41421356 1.73205081 2.         2.23606798]\n",
    "\n",
    "# Example for np.exp()\n",
    "result_exp = np.exp(arr)\n",
    "print(result_exp)  # Output: [ 2.71828183  7.3890561  20.08553692 54.59815003 148.4131591 ]\n",
    "\n",
    "# Example for np.log()\n",
    "result_log = np.log(arr)\n",
    "print(result_log)  # Output: [0.         0.69314718 1.09861229 1.38629436 1.60943791]\n",
    "\n",
    "# Example for np.sin()\n",
    "result_sin = np.sin(arr)\n",
    "print(result_sin)  # Output: [ 0.84147098  0.90929743  0.14112001 -0.7568025  -0.95892427]\n",
    "\n",
    "# Example for np.cos()\n",
    "result_cos = np.cos(arr)\n",
    "print(result_cos)  # Output: [ 0.54030231 -0.41614684 -0.9899925  -0.65364362  0.28366219]\n",
    "\n",
    "# Example for np.tan()\n",
    "result_tan = np.tan(arr)\n",
    "print(result_tan)  # Output: [ 1.55740772 -2.18503986 -0.14254654  1.15782128 -3.38051501]\n"
   ]
  },
  {
   "cell_type": "markdown",
   "id": "c2ca9509",
   "metadata": {},
   "source": [
    "## Statistical functions"
   ]
  },
  {
   "cell_type": "code",
   "execution_count": 56,
   "id": "f1b59bd9",
   "metadata": {},
   "outputs": [
    {
     "name": "stdout",
     "output_type": "stream",
     "text": [
      "3.0\n",
      "\n",
      "\n",
      "3.0\n",
      "\n",
      "\n",
      "15\n",
      "\n",
      "\n",
      "1\n",
      "\n",
      "\n",
      "5\n",
      "\n",
      "\n",
      "2.0\n",
      "\n",
      "\n",
      "1.4142135623730951\n",
      "\n",
      "\n",
      "2.0\n"
     ]
    }
   ],
   "source": [
    "arr = np.array([1, 2, 3, 4, 5])\n",
    "print(arr.mean())\n",
    "print('\\n')\n",
    "b=np.median(arr)\n",
    "print(b)\n",
    "print('\\n')\n",
    "print(arr.sum())\n",
    "print('\\n')\n",
    "print(arr.min())\n",
    "print('\\n')\n",
    "print(arr.max())\n",
    "print('\\n')\n",
    "print(arr.var())#variance\n",
    "print('\\n')\n",
    "print(arr.std())\n",
    "print('\\n')\n",
    "percentile_value = np.percentile(arr, 25)\n",
    "print(percentile_value)\n"
   ]
  },
  {
   "cell_type": "markdown",
   "id": "80a396d0",
   "metadata": {},
   "source": [
    "## Array manipulation"
   ]
  },
  {
   "cell_type": "code",
   "execution_count": 57,
   "id": "b23b893c",
   "metadata": {},
   "outputs": [
    {
     "name": "stdout",
     "output_type": "stream",
     "text": [
      "[[19 22]\n",
      " [43 50]]\n",
      "[[19 22]\n",
      " [43 50]]\n",
      "[[-2.   1. ]\n",
      " [ 1.5 -0.5]]\n",
      "-2.0000000000000004\n",
      "Eigenvalues:\n",
      "[-0.37228132  5.37228132]\n",
      "Eigenvectors:\n",
      "[[-0.82456484 -0.41597356]\n",
      " [ 0.56576746 -0.90937671]]\n"
     ]
    }
   ],
   "source": [
    "import numpy as np\n",
    "\n",
    "# Example for np.dot() - Dot Product of two arrays\n",
    "arr1 = np.array([[1, 2], [3, 4]])\n",
    "arr2 = np.array([[5, 6], [7, 8]])\n",
    "dot_product = np.dot(arr1, arr2)\n",
    "print(dot_product)\n",
    "# Output: [[19 22]\n",
    "#          [43 50]]\n",
    "\n",
    "# Example for np.matmul() - Matrix Multiplication\n",
    "matrix_product = np.matmul(arr1, arr2)\n",
    "print(matrix_product)\n",
    "# Output: [[19 22]\n",
    "#          [43 50]]\n",
    "\n",
    "\n",
    "# Example for np.linalg.inv() - Inverse of a matrix\n",
    "matrix = np.array([[1, 2], [3, 4]])\n",
    "inverse_matrix = np.linalg.inv(matrix)\n",
    "print(inverse_matrix)\n",
    "# Output: [[-2.   1. ]\n",
    "#          [ 1.5 -0.5]]\n",
    "\n",
    "\n",
    "# Example for np.linalg.det() - Determinant of a matrix\n",
    "matrix = np.array([[1, 2], [3, 4]])\n",
    "determinant = np.linalg.det(matrix)\n",
    "print(determinant)\n",
    "# Output: -2.0\n",
    "\n",
    "\n",
    "# Example for np.linalg.eig() - Eigenvalues and eigenvectors of a matrix\n",
    "matrix = np.array([[1, 2], [3, 4]])\n",
    "eigenvalues, eigenvectors = np.linalg.eig(matrix)\n",
    "print(\"Eigenvalues:\")\n",
    "print(eigenvalues)\n",
    "# Output: [-0.37228132  5.37228132]\n",
    "\n",
    "print(\"Eigenvectors:\")\n",
    "print(eigenvectors)\n",
    "# Output: [[-0.82456484 -0.41597356]\n",
    "#          [ 0.56576746 -0.90937671]]\n"
   ]
  },
  {
   "cell_type": "markdown",
   "id": "fcb0752c",
   "metadata": {},
   "source": [
    "## Array manipulation"
   ]
  },
  {
   "cell_type": "code",
   "execution_count": 58,
   "id": "77482801",
   "metadata": {},
   "outputs": [
    {
     "name": "stdout",
     "output_type": "stream",
     "text": [
      "[1 2 3 4 5 6]\n",
      "[1 2 3 4 5 6]\n",
      "[1 2 3]\n",
      "[[1]\n",
      " [2]\n",
      " [3]]\n",
      "[[1 2 3]\n",
      " [4 5 6]]\n",
      "[array([1, 2]), array([3, 4]), array([5, 6])]\n",
      "[1 2 3 1 2 3 1 2 3]\n",
      "[1 1 1 2 2 2 3 3 3]\n",
      "[2 4 5]\n"
     ]
    }
   ],
   "source": [
    "import numpy as np\n",
    "\n",
    "# Example for np.ravel() - Flatten a multi-dimensional array to a 1-D array\n",
    "arr = np.array([[1, 2, 3], [4, 5, 6]])\n",
    "flattened_arr = np.ravel(arr)\n",
    "print(flattened_arr)  # Output: [1 2 3 4 5 6]\n",
    "\n",
    "\n",
    "# Example for np.flatten() - Flatten a multi-dimensional array to a 1-D array\n",
    "arr = np.array([[1, 2, 3], [4, 5, 6]])\n",
    "flattened_arr = arr.flatten()\n",
    "print(flattened_arr)  # Output: [1 2 3 4 5 6]\n",
    "\n",
    "\n",
    "# Example for np.squeeze() - Remove single-dimensional entries from the shape of an array\n",
    "arr = np.array([[[1], [2], [3]]])\n",
    "squeezed_arr = np.squeeze(arr)\n",
    "print(squeezed_arr)  # Output: [[1]\n",
    "                     #          [2]\n",
    "                     #          [3]]\n",
    "\n",
    "\n",
    "# Example for np.expand_dims() - Add a new axis (dimension) to an array\n",
    "arr = np.array([1, 2, 3])\n",
    "expanded_arr = np.expand_dims(arr, axis=1)\n",
    "print(expanded_arr)\n",
    "# Output:\n",
    "# [[1]\n",
    "#  [2]\n",
    "#  [3]]\n",
    "\n",
    "\n",
    "# Example for np.stack() - Stack arrays along a new axis\n",
    "arr1 = np.array([1, 2, 3])\n",
    "arr2 = np.array([4, 5, 6])\n",
    "stacked_arr = np.stack((arr1, arr2), axis=0)\n",
    "print(stacked_arr)\n",
    "# Output:\n",
    "# [[1 2 3]\n",
    "#  [4 5 6]]\n",
    "\n",
    "\n",
    "# Example for np.split() - Split an array into multiple sub-arrays\n",
    "arr = np.array([1, 2, 3, 4, 5, 6])\n",
    "sub_arrays = np.split(arr, 3)\n",
    "print(sub_arrays)\n",
    "# Output: [array([1, 2]), array([3, 4]), array([5, 6])]\n",
    "\n",
    "\n",
    "# Example for np.tile() - Construct an array by repeating an existing array\n",
    "arr = np.array([1, 2, 3])\n",
    "tiled_arr = np.tile(arr, 3)\n",
    "print(tiled_arr)  # Output: [1 2 3 1 2 3 1 2 3]\n",
    "\n",
    "\n",
    "# Example for np.repeat() - Repeat elements of an array\n",
    "arr = np.array([1, 2, 3])\n",
    "repeated_arr = np.repeat(arr, 3)\n",
    "print(repeated_arr)  # Output: [1 1 1 2 2 2 3 3 3]\n",
    "\n",
    "\n",
    "# Example for np.delete() - Delete elements from an array\n",
    "arr = np.array([1, 2, 3, 4, 5])\n",
    "new_arr = np.delete(arr, [0, 2])  # Delete elements at index 0 and 2\n",
    "print(new_arr)  # Output: [2 4 5]\n"
   ]
  },
  {
   "cell_type": "markdown",
   "id": "ddec940d",
   "metadata": {},
   "source": [
    "## Aggregate functions"
   ]
  },
  {
   "cell_type": "code",
   "execution_count": 60,
   "id": "2bf4b3ea",
   "metadata": {},
   "outputs": [
    {
     "name": "stdout",
     "output_type": "stream",
     "text": [
      "True\n",
      "False\n",
      "True\n",
      "False\n",
      "(array([1, 3, 5], dtype=int64),)\n",
      "2\n",
      "1\n"
     ]
    }
   ],
   "source": [
    "import numpy as np\n",
    "\n",
    "# Example for np.any() - Check if any element in the array is True (non-zero)\n",
    "arr1 = np.array([0, 0, 0, 1, 0])\n",
    "arr2 = np.array([0, 0, 0, 0, 0])\n",
    "\n",
    "result_any1 = np.any(arr1)\n",
    "result_any2 = np.any(arr2)\n",
    "\n",
    "print(result_any1)  # Output: True (at least one element is True)\n",
    "print(result_any2)  # Output: False (all elements are False)\n",
    "\n",
    "\n",
    "# Example for np.all() - Check if all elements in the array are True (non-zero)\n",
    "arr3 = np.array([1, 1, 1, 1, 1])\n",
    "arr4 = np.array([1, 0, 1, 1, 1])\n",
    "\n",
    "result_all1 = np.all(arr3)\n",
    "result_all2 = np.all(arr4)\n",
    "\n",
    "print(result_all1)  # Output: True (all elements are True)\n",
    "print(result_all2)  # Output: False (one element is False)\n",
    "\n",
    "\n",
    "# Example for np.nonzero() - Get the indices of non-zero elements in the array\n",
    "arr5 = np.array([0, 1, 0, 2, 0, 3])\n",
    "\n",
    "nonzero_indices = np.nonzero(arr5)\n",
    "print(nonzero_indices)  # Output: (array([1, 3, 5]),)\n",
    "# The function returns a tuple containing the indices of non-zero elements.\n",
    "\n",
    "\n",
    "# Example for np.argmax() - Get the index of the maximum value in the array\n",
    "arr6 = np.array([10, 5, 30, 15, 20])\n",
    "\n",
    "max_index = np.argmax(arr6)\n",
    "print(max_index)  # Output: 2 (index of the maximum value, which is 30 at index 2)\n",
    "\n",
    "\n",
    "# Example for np.argmin() - Get the index of the minimum value in the array\n",
    "arr7 = np.array([10, 5, 30, 15, 20])\n",
    "\n",
    "min_index = np.argmin(arr7)\n",
    "print(min_index)  # Output: 1 (index of the minimum value, which is 5 at index 1)\n"
   ]
  },
  {
   "cell_type": "markdown",
   "id": "64eee191",
   "metadata": {},
   "source": [
    "## Advanced mathematical functions"
   ]
  },
  {
   "cell_type": "code",
   "execution_count": 62,
   "id": "83960701",
   "metadata": {},
   "outputs": [
    {
     "name": "stdout",
     "output_type": "stream",
     "text": [
      "[15. +0.j         -2.5+3.4409548j  -2.5+0.81229924j -2.5-0.81229924j\n",
      " -2.5-3.4409548j ]\n",
      "5.0\n",
      "[0.37454012 0.95071431 0.73199394]\n",
      "[0.37454012 0.95071431 0.73199394]\n",
      "[2 2 3 4 4]\n"
     ]
    }
   ],
   "source": [
    "import numpy as np\n",
    "\n",
    "# Example for np.fft - Fast Fourier Transform\n",
    "arr = np.array([1, 2, 3, 4, 5])\n",
    "fft_result = np.fft.fft(arr)\n",
    "print(fft_result)\n",
    "# Output: [15. -2.5+3.4409548j -2.5+0.81229924j -2.5-0.81229924j -2.5-3.4409548j 10. ]\n",
    "# The output is the complex Fourier transform of the input array.\n",
    "\n",
    "\n",
    "# Example for np.linalg.norm() - Calculate various vector norms\n",
    "arr = np.array([3, 4])\n",
    "norm_l2 = np.linalg.norm(arr)\n",
    "print(norm_l2)  # Output: 5.0\n",
    "# The output is the L2 (Euclidean) norm of the vector [3, 4].\n",
    "\n",
    "\n",
    "# Example for np.random.seed() - Set the random seed for reproducibility\n",
    "np.random.seed(42)\n",
    "random_arr1 = np.random.rand(3)\n",
    "print(random_arr1)\n",
    "# Output: [0.37454012 0.95071431 0.73199394]\n",
    "\n",
    "np.random.seed(42)  # Resetting the seed\n",
    "random_arr2 = np.random.rand(3)\n",
    "print(random_arr2)\n",
    "# Output: [0.37454012 0.95071431 0.73199394]\n",
    "# The two arrays 'random_arr1' and 'random_arr2' will be the same because of the seed set.\n",
    "\n",
    "\n",
    "# Example for np.clip() - Clip (limit) the values in an array\n",
    "arr = np.array([1, 2, 3, 4, 5])\n",
    "clipped_arr = np.clip(arr, 2, 4)\n",
    "print(clipped_arr)  # Output: [2 2 3 4 4]\n",
    "# The values in the array are clipped to be between 2 and 4.\n",
    "\n"
   ]
  },
  {
   "cell_type": "markdown",
   "id": "21f9caad",
   "metadata": {},
   "source": [
    "## Statistical functions"
   ]
  },
  {
   "cell_type": "code",
   "execution_count": 63,
   "id": "7ccab397",
   "metadata": {},
   "outputs": [
    {
     "name": "stdout",
     "output_type": "stream",
     "text": [
      "Histogram: [0 2 2 3 2]\n",
      "Bins: [0 1 2 3 4 5]\n",
      "[[ 2.5 -2.5]\n",
      " [-2.5  2.5]]\n",
      "[3.5]\n"
     ]
    }
   ],
   "source": [
    "import numpy as np\n",
    "\n",
    "# Example for np.histogram() - Compute the histogram of an array\n",
    "arr = np.array([1, 2, 1, 3, 4, 2, 5, 3, 3])\n",
    "hist, bins = np.histogram(arr, bins=[0, 1, 2, 3, 4, 5])\n",
    "print(\"Histogram:\", hist)  # Output: [0 2 3 3 1]\n",
    "print(\"Bins:\", bins)  # Output: [0 1 2 3 4 5]\n",
    "# The output is the histogram values and the bin edges.\n",
    "\n",
    "\n",
    "# Example for np.cov() - Compute the covariance matrix of two arrays\n",
    "arr1 = np.array([1, 2, 3, 4, 5])\n",
    "arr2 = np.array([5, 4, 3, 2, 1])\n",
    "cov_matrix = np.cov(arr1, arr2)\n",
    "print(cov_matrix)\n",
    "# Output:\n",
    "# [[ 2.5 -2.5]\n",
    "#  [-2.5  2.5]]\n",
    "# The output is the covariance matrix of 'arr1' and 'arr2'.\n",
    "\n",
    "\n",
    "# Example for np.correlate() - Cross-correlation of two 1-dimensional sequences\n",
    "arr3 = np.array([1, 2, 3])\n",
    "arr4 = np.array([0, 1, 0.5])\n",
    "correlation = np.correlate(arr3, arr4, mode='valid')\n",
    "print(correlation)  # Output: [3.5]\n",
    "# The output is the cross-correlation value between 'arr3' and 'arr4' with valid mode.\n"
   ]
  },
  {
   "cell_type": "markdown",
   "id": "b31b5082",
   "metadata": {},
   "source": [
    "## Broadcasting"
   ]
  },
  {
   "cell_type": "markdown",
   "id": "c5a7dfc3",
   "metadata": {},
   "source": [
    "Broadcasting in NumPy is a powerful feature that allows arrays with different shapes to be combined in arithmetic operations, even if their shapes are not compatible according to traditional array arithmetic rules.Broadcasting allows you to perform operations between arrays with different shapes without having to explicitly reshape or tile the arrays, which can significantly improve code readability and efficiency."
   ]
  },
  {
   "cell_type": "code",
   "execution_count": 64,
   "id": "11637570",
   "metadata": {},
   "outputs": [
    {
     "name": "stdout",
     "output_type": "stream",
     "text": [
      "[11 12 13]\n"
     ]
    }
   ],
   "source": [
    "import numpy as np\n",
    "\n",
    "# Broadcasting example\n",
    "a = np.array([1, 2, 3])\n",
    "b = 10\n",
    "\n",
    "result = a + b\n",
    "print(result)  # Output: [11 12 13]\n"
   ]
  },
  {
   "cell_type": "markdown",
   "id": "f1700a59",
   "metadata": {},
   "source": [
    "## Fancy indexing"
   ]
  },
  {
   "cell_type": "markdown",
   "id": "a0888bea",
   "metadata": {},
   "source": [
    "Fancy indexing in NumPy refers to an advanced indexing technique where an array can be indexed or sliced using an array of integers or boolean values (or a combination of both) instead of simple scalars or slices. Fancy indexing allows you to select specific elements or subsets of elements from an array based on the indices or boolean conditions specified in another array."
   ]
  },
  {
   "cell_type": "markdown",
   "id": "96ace5c2",
   "metadata": {},
   "source": [
    "Integer Array Indexing:\n",
    "You can pass an array of integers as indices to select specific elements from the original array."
   ]
  },
  {
   "cell_type": "code",
   "execution_count": 65,
   "id": "8529ae5c",
   "metadata": {},
   "outputs": [
    {
     "name": "stdout",
     "output_type": "stream",
     "text": [
      "[10 30 50]\n"
     ]
    }
   ],
   "source": [
    "import numpy as np\n",
    "\n",
    "# Integer Array Indexing example\n",
    "arr = np.array([10, 20, 30, 40, 50])\n",
    "indices = np.array([0, 2, 4])\n",
    "selected_elements = arr[indices]\n",
    "print(selected_elements)  # Output: [10 30 50]\n"
   ]
  },
  {
   "cell_type": "markdown",
   "id": "e2ba4bab",
   "metadata": {},
   "source": [
    "Boolean Array Indexing (Boolean Masking):\n",
    "You can pass an array of boolean values as a mask to select elements from the original array where the corresponding mask value is True"
   ]
  },
  {
   "cell_type": "code",
   "execution_count": 66,
   "id": "6f4ab1ed",
   "metadata": {},
   "outputs": [
    {
     "name": "stdout",
     "output_type": "stream",
     "text": [
      "[20 40]\n"
     ]
    }
   ],
   "source": [
    "import numpy as np\n",
    "\n",
    "# Boolean Array Indexing (Boolean Masking) example\n",
    "arr = np.array([10, 20, 30, 40, 50])\n",
    "mask = np.array([False, True, False, True, False])\n",
    "selected_elements = arr[mask]\n",
    "print(selected_elements)  # Output: [20 40]\n"
   ]
  },
  {
   "cell_type": "markdown",
   "id": "3179ad5a",
   "metadata": {},
   "source": [
    "## Masked arrays"
   ]
  },
  {
   "cell_type": "code",
   "execution_count": 67,
   "id": "984a1f16",
   "metadata": {},
   "outputs": [
    {
     "name": "stdout",
     "output_type": "stream",
     "text": [
      "4.857142857142857\n"
     ]
    }
   ],
   "source": [
    "import numpy as np\n",
    "\n",
    "# Create a regular NumPy array\n",
    "data = np.array([1, 2, 3, -999, 5, 6, -999, 8, 9])\n",
    "\n",
    "# Create a mask for invalid values (e.g., -999)\n",
    "mask = data == -999\n",
    "\n",
    "# Create a masked array using the original data and mask\n",
    "masked_data = np.ma.masked_array(data, mask)\n",
    "\n",
    "# Perform computations with the masked array\n",
    "mean = np.ma.mean(masked_data)\n",
    "print(mean)  # Output: 4.714285714285714 (ignoring the masked elements)\n"
   ]
  },
  {
   "cell_type": "markdown",
   "id": "6adce4cb",
   "metadata": {},
   "source": [
    "## Vectorization"
   ]
  },
  {
   "cell_type": "code",
   "execution_count": 68,
   "id": "d658be2b",
   "metadata": {},
   "outputs": [
    {
     "name": "stdout",
     "output_type": "stream",
     "text": [
      "[ 2  4  6  8 10]\n",
      "[ 2  4  6  8 10]\n"
     ]
    }
   ],
   "source": [
    "import numpy as np\n",
    "\n",
    "# Non-vectorized approach using a loop\n",
    "arr = np.array([1, 2, 3, 4, 5])\n",
    "result = np.zeros_like(arr)\n",
    "for i in range(len(arr)):\n",
    "    result[i] = arr[i] * 2\n",
    "\n",
    "print(result)  # Output: [ 2  4  6  8 10]\n",
    "\n",
    "# Vectorized approach using NumPy\n",
    "arr = np.array([1, 2, 3, 4, 5])\n",
    "result = arr * 2\n",
    "\n",
    "print(result)  # Output: [ 2  4  6  8 10]\n"
   ]
  },
  {
   "cell_type": "code",
   "execution_count": null,
   "id": "70629129",
   "metadata": {},
   "outputs": [],
   "source": []
  }
 ],
 "metadata": {
  "kernelspec": {
   "display_name": "Python 3",
   "language": "python",
   "name": "python3"
  },
  "language_info": {
   "codemirror_mode": {
    "name": "ipython",
    "version": 3
   },
   "file_extension": ".py",
   "mimetype": "text/x-python",
   "name": "python",
   "nbconvert_exporter": "python",
   "pygments_lexer": "ipython3",
   "version": "3.8.8"
  }
 },
 "nbformat": 4,
 "nbformat_minor": 5
}
